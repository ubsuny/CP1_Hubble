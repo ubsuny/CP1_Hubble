{
 "cells": [
  {
   "cell_type": "markdown",
   "id": "6e74d8f9-2787-4b18-869d-80f842524f1e",
   "metadata": {},
   "source": [
    "# Homework 6 Problem 2\n",
    "\n",
    "#### 1. How to divide the 24 galaxies into groups\n",
    "\n",
    "In Hubble's orginal paper \"A Relation between Distance and Radial Velocity among Extra-Galactic Nebulae\" 1929, table 1 lists 24 nebulae that are used to plot his famous diagram. \n",
    "\n",
    "Looking at table 1, one realizes that a few nebulae have almost the same distance r, maybe it will be easier to simply group them together as a single data point. This would make sense if the nebulae actually belong to the same cluster of galaxies. I should mention that Hubble called the galaxies, nebulae, since people weren't sure exactly what they were. Nowadays we know they're galaxies, so from this point on, we will just call them galaxies. \n",
    "\n",
    "So let's group the galaxies broadly based on distance r fist. Then we check the positions of these galaxies in the sky. If they are not in roughly the same position in the sky, we can not group them together, since they must be separate galaxies but just happen to have similar distances to Earth. The positions of the galaxies can be found on this website: http://spider.seds.org/ngc/ngc.html. \n",
    "\n",
    "The positions of the galaxies are given by angular measurements in the sky. The right ascension tells the longitudinal position: how far to the East or West in the sky. The Declination tells how high up in the sky is the object located.\n",
    "\n",
    "![Angular position in the sky](https://upload.wikimedia.org/wikipedia/commons/thumb/9/98/Ra_and_dec_on_celestial_sphere.png/600px-Ra_and_dec_on_celestial_sphere.png)\n",
    "\n",
    "(Image from wikipedia, https://en.wikipedia.org/wiki/Right_ascension. Attribution: Tfr000 (talk) 15:34, 15 June 2012 (UTC), CC BY-SA 3.0 <https://creativecommons.org/licenses/by-sa/3.0>, via Wikimedia Commons)\n",
    "\n",
    "Looking at table 1, all the galaxies have a catalogue number that we can put into http://spider.seds.org/ngc/ngc.html and find out their positions, except the first two. S.Mag. and L.Mag., what are they? I'm totally guessing here, they're probably the same group, given their similar name and similar distances. S.Mag. might have to do with Andromeda Galaxy, based on google search.\n",
    "\n",
    "Here is my grouping. The group index is the last column of the table:\n",
    "\n",
    "\n",
    "![Grouping Hubble's data](https://github.com/piaohanx/CP1_Hubble/blob/main/grouping.png?raw=true)\n",
    "\n",
    " ---\n",
    " As could be seen, I divided the data into 13 groups. Some groups could be merged together, but not being an astronomer, I don't know how big a variation in the angular position is accpetable for grouping the data points together into a single cluster... So I guess I will just go with my 13 groups rather than Hubble's 9 groups. \n",
    "\n"
   ]
  },
  {
   "cell_type": "markdown",
   "id": "8f21e45e-b97f-4507-b9fd-5d470e704ac9",
   "metadata": {},
   "source": [
    "#### 2. Fitting the data\n",
    "\n",
    "In the previous section, we divided the data points into 13 groups, based on their distances and angular positions. I calculated average distance and velocity in each group. Thus we have the following 13 data points:\n",
    "\n",
    "![Group averages](https://github.com/piaohanx/CP1_Hubble/blob/main/Group%20averages.png?raw=true)\n",
    "\n",
    "---\n",
    "\n",
    "The following is my attempt to try to read in the data from the CSV file I generated named \"Hubble2.csv\", and then fit it. I used the code from the Jupyter notebook quake.ipynb to import the data. The code are as follows:"
   ]
  },
  {
   "cell_type": "code",
   "execution_count": 25,
   "id": "0524d672-95f8-46a8-ae99-15d755871171",
   "metadata": {},
   "outputs": [],
   "source": [
    "import numpy as np\n",
    "import matplotlib.pyplot as plt\n",
    "\n",
    "from least_squares import least_squares"
   ]
  },
  {
   "cell_type": "code",
   "execution_count": 26,
   "id": "3db4077a-49ff-4640-8582-4b8cc4470867",
   "metadata": {},
   "outputs": [],
   "source": [
    "# Make the plots a bit bigger to see\n",
    "# NOTE: Must be done in a separate cell\n",
    "plt.rcParams['figure.dpi'] = 100"
   ]
  },
  {
   "cell_type": "code",
   "execution_count": 28,
   "id": "ebeeb228-fe75-4542-b7bf-9a2d4e3a50fb",
   "metadata": {},
   "outputs": [],
   "source": [
    "# Import the distance data from Hubble's original paper\n",
    "r = np.genfromtxt(fname='Hubble2.csv', usecols=(0),skip_header=1, delimiter=',')"
   ]
  },
  {
   "cell_type": "code",
   "execution_count": 29,
   "id": "92d3a522-ef62-4834-ae6b-f6a6a6db01b0",
   "metadata": {},
   "outputs": [
    {
     "data": {
      "text/plain": [
       "array([0.033, 0.214, 0.263, 0.275, 0.576, 0.9  , 0.9  , 0.9  , 1.   ,\n",
       "       1.1  , 1.1  , 1.55 , 2.   ])"
      ]
     },
     "execution_count": 29,
     "metadata": {},
     "output_type": "execute_result"
    }
   ],
   "source": [
    "# Let us check if we indeed imported the distances correctly\n",
    "r"
   ]
  },
  {
   "cell_type": "code",
   "execution_count": 30,
   "id": "5ab7cefe-56fa-4851-b6d3-ed5b32260491",
   "metadata": {},
   "outputs": [],
   "source": [
    "# Import the velocity data from Hubble's original paper\n",
    "v = np.genfromtxt(fname='Hubble2.csv', usecols=(1),skip_header=1, delimiter=',')"
   ]
  },
  {
   "cell_type": "code",
   "execution_count": 31,
   "id": "8a84837c-994c-4d40-b26f-33a324f4205d",
   "metadata": {},
   "outputs": [
    {
     "data": {
      "text/plain": [
       "array([230. , 130. ,  70. , 202.5, 252. ,  30. , 400. , 500. , 920. ,\n",
       "       450. , 500. , 730. , 810. ])"
      ]
     },
     "execution_count": 31,
     "metadata": {},
     "output_type": "execute_result"
    }
   ],
   "source": [
    "# Let us check if we indeed imported the velocity correctly\n",
    "v"
   ]
  },
  {
   "cell_type": "markdown",
   "id": "19946146-4723-4d21-8037-3e7e91553765",
   "metadata": {},
   "source": [
    "---\n",
    "Now that we have correctly imported the data, we can fit the data. The python code least_square.py however is not my own :( I used the one already inside the data analysis folder. I think I understand the idea how the code works. Essentially, we had to minimized the least square function, and so we need to do differentiation and equate the differentials to zero. This results in a set of simultaneous equations, which we can solve to find the gradient and the intercept of our linear fit line. All these steps are done on paper, the code does not differentiate or solve the system of equations! The python code just calculates the results of our solutions. In Problem 1, I have done on paper the minimization of the chi square function. I arrived at the stage where we have a system of equations, but the solutions to the system of equations are incredibly hard to find. It involves a lot of algebra. If I could find those solutions I could then put them in a python code and let it calculate for me."
   ]
  },
  {
   "cell_type": "code",
   "execution_count": 33,
   "id": "1bf1c7fc-79fc-4bd5-9e14-c89887949ed5",
   "metadata": {},
   "outputs": [
    {
     "name": "stdout",
     "output_type": "stream",
     "text": [
      " Least squares fit of 13 data points\n",
      " -----------------------------------\n",
      " Hubble's constant slope   b = 386.59 +-  99.55  km/s/Mpc\n",
      " Intercept with r axis     a =  80.39 +-  98.69  km/s\n",
      " Estimated v error bar sigma = 193.7 km/s\n"
     ]
    },
    {
     "data": {
      "image/png": "[encoded data removed]",
      "text/plain": [
       "<Figure size 600x400 with 1 Axes>"
      ]
     },
     "metadata": {
      "needs_background": "light"
     },
     "output_type": "display_data"
    }
   ],
   "source": [
    "# Here I uses the the least_square.py code from the data analysis folder. \n",
    "# It is the not the code I have written myself though :(\n",
    "\n",
    "[a, b, sigma, sigma_a, sigma_b] = least_squares(r,v)\n",
    "\n",
    "n = len(r)   # number of galaxies\n",
    "\n",
    "if n <= 2 :\n",
    "    print ('Error! Need at least two data points!')\n",
    "    exit()\n",
    "\n",
    "# If we want to check our fitting result against numpy's fitting result, we can add the following line. \n",
    "# p,cov = np.polyfit( r, v, 1, cov=True)\n",
    "\n",
    "# Print out results\n",
    "print (' Least squares fit of', n, 'data points')\n",
    "print (' -----------------------------------')\n",
    "print (\" Hubble's constant slope   b = {0:6.2f} +- {1:6.2f}  km/s/Mpc\".format( b, sigma_b))\n",
    "print (\" Intercept with r axis     a = {0:6.2f} +- {1:6.2f}  km/s\".format( a, sigma_a))\n",
    "print (' Estimated v error bar sigma =', round(sigma, 1), 'km/s')\n",
    "\n",
    "# Again, If we want to check our fitting result against numpy's fitting result, we can add these line.\n",
    "# print (\" numpy's values:           b = {0:6.2f} +- {1:6.2f}  km/s/Mpc\".format( p[0], np.sqrt(cov[0,0])))\n",
    "# print (\"                           a = {0:6.2f} +- {1:6.2f}  km/s/Mpc\".format( p[1], np.sqrt(cov[1,1])))\n",
    "\n",
    "\n",
    "rvals = np.linspace(0., 2.0, 21)\n",
    "f = a + b * rvals\n",
    "fnp = p[1] + p[0] * rvals\n",
    "plt.figure(1)\n",
    "plt.scatter( r, v, label = \"Data\" )\n",
    "plt.plot( rvals, f , label=\"Our fit\")\n",
    "\n",
    "# If we want to compare to numpy fitting result we can add the following line.\n",
    "# plt.plot( rvals, fnp, label = \"numpy fit\")\n",
    "\n",
    "plt.xlabel(\"Distance (Mpc)\")\n",
    "plt.ylabel(\"Velocity (km/s)\")\n",
    "plt.legend()\n",
    "\n",
    "plt.show()"
   ]
  },
  {
   "cell_type": "markdown",
   "id": "8aee6b3d-9ed7-4464-aefc-3f1ef7b7e5e0",
   "metadata": {},
   "source": [
    "--- \n",
    "The results are quite a bit different... But we used different groups of data from those used by Hubble I suppose. The slope of the straight line is called Hubble constant $H_0$, and the age of the universe is related to $\\frac{1}{H_0}$ (or $\\frac{2}{3{H_0}}$, depending on the cosmological model we use). \n",
    "\n",
    "If we use the slope, $b=386.59km/s/Mpc$ (the error margin is pretty big. But we only have 13 data points. We may expect that if we had more data points, the result might be more accurate), then \n",
    "\n",
    "$\\frac{1}{H_0} = 2.59$ billion years\n",
    "\n",
    "This is much shorter than our current estimate of $14$ billion years. Also it's worse than Hubble's estimate which is between 7 to 20 billion years. So, we probably didn't do a good job :P "
   ]
  },
  {
   "cell_type": "code",
   "execution_count": null,
   "id": "2d65fb60-331c-41c1-89a1-e422197dc153",
   "metadata": {},
   "outputs": [],
   "source": []
  }
 ],
 "metadata": {
  "kernelspec": {
   "display_name": "Python 3 (ipykernel)",
   "language": "python",
   "name": "python3"
  },
  "language_info": {
   "codemirror_mode": {
    "name": "ipython",
    "version": 3
   },
   "file_extension": ".py",
   "mimetype": "text/x-python",
   "name": "python",
   "nbconvert_exporter": "python",
   "pygments_lexer": "ipython3",
   "version": "3.9.5"
  }
 },
 "nbformat": 4,
 "nbformat_minor": 5
}
