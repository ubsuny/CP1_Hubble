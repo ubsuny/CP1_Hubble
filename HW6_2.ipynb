{
 "cells": [
  {
   "cell_type": "markdown",
   "id": "9026a9db-f266-4577-8943-9d25280fc5b4",
   "metadata": {},
   "source": [
    "# HW 6 Problem 2\n",
    "## Austin Marga"
   ]
  },
  {
   "cell_type": "markdown",
   "id": "4d21a8a9-4244-4538-851b-5e33e54a04e8",
   "metadata": {},
   "source": [
    "Sections of this notebook were taken from the Jupyter Notebook `hubble.ipynb` </br> \n",
    "For some theory, the following was used. </br>\n",
    "https://courses.lumenlearning.com/astronomy/chapter/the-age-of-the-universe/"
   ]
  },
  {
   "cell_type": "markdown",
   "id": "006bbc03-4f8f-4bd8-b6ca-9077063636b3",
   "metadata": {},
   "source": [
    "First, our import statements."
   ]
  },
  {
   "cell_type": "code",
   "execution_count": 1,
   "id": "a4431246-4af4-4ff1-b9b7-01a0e5d18c61",
   "metadata": {},
   "outputs": [],
   "source": [
    "import math\n",
    "import numpy as np\n",
    "import pandas as pd\n",
    "import matplotlib.pyplot as plt\n",
    "from least_square_fit import least_squares"
   ]
  },
  {
   "cell_type": "markdown",
   "id": "301fb84a-bee2-4ae0-9575-adfeacaa16c2",
   "metadata": {},
   "source": [
    "Let's see what a least square fit of all 24 data points would look like. This is from the `hubble.ipynb` file provided to us in class."
   ]
  },
  {
   "cell_type": "code",
   "execution_count": 2,
   "id": "5d45c5c5-62f1-4215-bb44-44940a98dff8",
   "metadata": {},
   "outputs": [],
   "source": [
    "# Make the plots a bit bigger to see\n",
    "# NOTE: Must be done in a separate cell\n",
    "plt.rcParams['figure.dpi'] = 100"
   ]
  },
  {
   "cell_type": "code",
   "execution_count": 3,
   "id": "e6ff9197-0469-4b01-989f-b926daa161cd",
   "metadata": {},
   "outputs": [
    {
     "name": "stdout",
     "output_type": "stream",
     "text": [
      " Least squares fit of 24 data points\n",
      " -----------------------------------\n",
      " Hubble's constant slope   b = 454.16 +-  75.24  km/s/Mpc\n",
      " Intercept with r axis     a = -40.78 +-  83.44  km/s\n",
      " Estimated v error bar sigma = 232.9 km/s\n",
      " numpy's values:           b = 454.16 +-  75.24  km/s/Mpc\n",
      "                           a = -40.78 +-  83.44  km/s/Mpc\n"
     ]
    },
    {
     "data": {
      "image/png": "[encoded data removed]",
      "text/plain": [
       "<Figure size 600x400 with 1 Axes>"
      ]
     },
     "metadata": {
      "needs_background": "light"
     },
     "output_type": "display_data"
    }
   ],
   "source": [
    "# distances in Mpc\n",
    "r = np.array([ 0.032, 0.034, 0.214, 0.263, 0.275, 0.275, 0.45, 0.5,\n",
    "      0.5,   0.63,  0.8,   0.9,   0.9,   0.9,   0.9,  1.0,\n",
    "      1.1,   1.1,   1.4,   1.7,   2.0,   2.0,   2.0,  2.0 ])\n",
    "\n",
    "# velocities in km/s\n",
    "v = np.array([ +170, +290, -130, -70,  -185, -220, +200, +290,\n",
    "      +270, +200, +300, -30,  +650, +150, +500, +920,\n",
    "      +450, +500, +500, +960, +500, +850, +800, +1090 ])\n",
    "\n",
    "\n",
    "n = len(r)   # number of galaxies\n",
    "\n",
    "if n <= 2 :\n",
    "    print ('Error! Need at least two data points!')\n",
    "    exit()\n",
    "\n",
    "# Use our home-grown version\n",
    "[a, b, sigma, sigma_a, sigma_b] = least_squares(r,v)\n",
    "\n",
    "# Check against numpy's version:\n",
    "p,cov = np.polyfit( r, v, 1, cov=True)\n",
    "\n",
    "# Print out results\n",
    "print (' Least squares fit of', n, 'data points')\n",
    "print (' -----------------------------------')\n",
    "print (\" Hubble's constant slope   b = {0:6.2f} +- {1:6.2f}  km/s/Mpc\".format( b, sigma_b))\n",
    "print (\" Intercept with r axis     a = {0:6.2f} +- {1:6.2f}  km/s\".format( a, sigma_a))\n",
    "print (' Estimated v error bar sigma =', round(sigma, 1), 'km/s')\n",
    "print (\" numpy's values:           b = {0:6.2f} +- {1:6.2f}  km/s/Mpc\".format( p[0], np.sqrt(cov[0,0])))\n",
    "print (\"                           a = {0:6.2f} +- {1:6.2f}  km/s/Mpc\".format( p[1], np.sqrt(cov[1,1])))\n",
    "\n",
    "\n",
    "rvals = np.linspace(0., 2.0, 21)\n",
    "f = a + b * rvals\n",
    "fnp = p[1] + p[0] * rvals\n",
    "plt.figure(1)\n",
    "plt.scatter( r, v, label = \"Data\" )\n",
    "plt.plot( rvals, f , label=\"Our fit\")\n",
    "plt.plot( rvals, fnp, label = \"numpy fit\")\n",
    "plt.xlabel(\"Distance (Mpc)\")\n",
    "plt.ylabel(\"Velocity (km/s)\")\n",
    "plt.legend()\n",
    "\n",
    "plt.show()\n"
   ]
  },
  {
   "cell_type": "markdown",
   "id": "6e1d3054-11b8-4942-91b5-d1d1b3750a9c",
   "metadata": {},
   "source": [
    "We can see that we can group all 24 data points into 9 distinct groups. I choose these groups to be based on the $0.25$Mpc intervals. Points around each multiple of $0.25$Mpc are a group. </br> \n",
    "Example.\n",
    "- The points with distance values of [ 0.032, 0.034] form a group.\n",
    "- The points with distance values of [0.214, 0.263, 0.275, 0.275] form a group.\n",
    "- The points with distance values of [0.45, 0.5, 0.5] form a group.\n",
    "- The points with distance values of [0.63,  0.8] form a group.\n",
    "And so on. If a point is within $.125$Mpc of a $0.25$Mpc interval, I will include it in the $0.25$Mpc interval group. I have made an exception around $1.00$Mpc, as that group would have seven members, and it is likely to better split it up into two groups."
   ]
  },
  {
   "cell_type": "markdown",
   "id": "009ca102-62d3-431a-b62a-cab9a884e7f2",
   "metadata": {},
   "source": [
    "First, we build a function to group our points given our conditions above."
   ]
  },
  {
   "cell_type": "code",
   "execution_count": 4,
   "id": "b2029d67-5fad-42d2-a329-c29e7005b9e0",
   "metadata": {},
   "outputs": [],
   "source": [
    "def group(dist,vel):\n",
    "    \"\"\"\n",
    "    Groups the distance,velocity points into 9 distinct groups.\n",
    "    \n",
    "    Args: dist and vel are lists.\n",
    "    \n",
    "    Returns: g is a list of groups (lists) of points (lists). Therefore, g is a list of list of lists.\n",
    "    \n",
    "    \"\"\"\n",
    "    g = [[],[],[],[],[],[],[],[],[]]\n",
    "    a = 0\n",
    "    for entry in dist:\n",
    "        n = 0\n",
    "        group_number = ((entry + 0.125) // .25)\n",
    "        if (entry == 1.0 or entry == 1.1):\n",
    "            group_number = 5.0\n",
    "        val = [entry,vel[a]]\n",
    "        a = a + 1\n",
    "        g[int(group_number)].append(val)\n",
    "    return g"
   ]
  },
  {
   "cell_type": "code",
   "execution_count": 5,
   "id": "ff96fd8f-a27f-494b-92de-8d5407e65327",
   "metadata": {},
   "outputs": [
    {
     "data": {
      "text/plain": [
       "[[[0.032, 170], [0.034, 290]],\n",
       " [[0.214, -130], [0.263, -70], [0.275, -185], [0.275, -220]],\n",
       " [[0.45, 200], [0.5, 290], [0.5, 270]],\n",
       " [[0.63, 200], [0.8, 300]],\n",
       " [[0.9, -30], [0.9, 650], [0.9, 150], [0.9, 500]],\n",
       " [[1.0, 920], [1.1, 450], [1.1, 500]],\n",
       " [[1.4, 500]],\n",
       " [[1.7, 960]],\n",
       " [[2.0, 500], [2.0, 850], [2.0, 800], [2.0, 1090]]]"
      ]
     },
     "execution_count": 5,
     "metadata": {},
     "output_type": "execute_result"
    }
   ],
   "source": [
    "group(r,v)"
   ]
  },
  {
   "cell_type": "markdown",
   "id": "8bd43047-047c-476c-a172-6ba3b025f7ae",
   "metadata": {},
   "source": [
    "Then, we average the points for each of the groups."
   ]
  },
  {
   "cell_type": "code",
   "execution_count": 6,
   "id": "ab7dccb4-7cae-4470-a510-b8853c4c928a",
   "metadata": {},
   "outputs": [],
   "source": [
    "def avg_point(group):\n",
    "    \"\"\"\n",
    "    avg_point takes a group and averages the distance and velocity values of the points in the group.\n",
    "    \n",
    "    Args: group is a list of lists.\n",
    "    \n",
    "    Returns: new_point is a list.\n",
    "    \n",
    "    \"\"\"\n",
    "    new_point = []\n",
    "    x = []\n",
    "    y = []\n",
    "    for point in group:\n",
    "        x.append(point[0])\n",
    "        y.append(point[1])\n",
    "    avg_x = np.sum(x)/len(x)\n",
    "    avg_y = np.sum(y)/len(y)\n",
    "    new_point = [avg_x,avg_y]\n",
    "    return new_point"
   ]
  },
  {
   "cell_type": "code",
   "execution_count": 7,
   "id": "e78181d0-28b5-4c46-bbb4-70a19971c0dc",
   "metadata": {},
   "outputs": [
    {
     "data": {
      "text/plain": [
       "[0.033, 230.0]"
      ]
     },
     "execution_count": 7,
     "metadata": {},
     "output_type": "execute_result"
    }
   ],
   "source": [
    "avg_point([[0.032, 170], [0.034, 290]])"
   ]
  },
  {
   "cell_type": "markdown",
   "id": "a52a015d-d16a-4fee-9a10-cece9ea9ae9a",
   "metadata": {},
   "source": [
    "Lastly, we assemble the points into a list and use this data set for our new linear fitting."
   ]
  },
  {
   "cell_type": "code",
   "execution_count": 8,
   "id": "de82de9b-ae3c-468f-ac1f-f0d2aee3cbbf",
   "metadata": {},
   "outputs": [],
   "source": [
    "def make_points(dist,vel):\n",
    "    \"\"\"\n",
    "    make_points makes a list of all averaged points using functions `group` and `avg_point`.\n",
    "    \n",
    "    Args: dist and vel are lists.\n",
    "    \n",
    "    Returns: [d_set,v_set] is a list of lists.\n",
    "    \n",
    "    \"\"\"\n",
    "    partition = group(r,v)\n",
    "    d_set = []\n",
    "    v_set = []\n",
    "    for groupp in partition:\n",
    "        pt = avg_point(groupp)\n",
    "        d_set.append(pt[0])\n",
    "        v_set.append(pt[1])\n",
    "    return [d_set,v_set]"
   ]
  },
  {
   "cell_type": "code",
   "execution_count": 9,
   "id": "f7619859-1b2e-4d1f-90bd-c878ba11ea81",
   "metadata": {},
   "outputs": [],
   "source": [
    "new_data_set = make_points(r,v)"
   ]
  },
  {
   "cell_type": "markdown",
   "id": "d5a0a1f4-2599-44f0-852f-075f68c0bc79",
   "metadata": {},
   "source": [
    "Since the data set was very small, it was written directly in as a `numpy` array. Let's write this data of the averaged 9 points into a csv and fetch the data from the csv to cover the case that we will have a lot more data (which is very likely for future projects)."
   ]
  },
  {
   "cell_type": "code",
   "execution_count": 10,
   "id": "d3d98e94-a8a0-4701-a54b-5ed2e3623c91",
   "metadata": {},
   "outputs": [],
   "source": [
    "np.savetxt(\"hubble_data.csv\", new_data_set, delimiter=\",\")"
   ]
  },
  {
   "cell_type": "code",
   "execution_count": 11,
   "id": "b9ddb31e-7eb3-4b00-9f69-d162cf48eca7",
   "metadata": {},
   "outputs": [],
   "source": [
    "data2 = np.loadtxt(\"hubble_data.csv\",delimiter=\",\")"
   ]
  },
  {
   "cell_type": "code",
   "execution_count": 12,
   "id": "9c1d03a3-24ed-4869-8bb7-b47a48b81cbe",
   "metadata": {},
   "outputs": [
    {
     "data": {
      "text/plain": [
       "array([[ 3.30000000e-02,  2.30000000e+02],\n",
       "       [ 2.56750000e-01, -1.51250000e+02],\n",
       "       [ 4.83333333e-01,  2.53333333e+02],\n",
       "       [ 7.15000000e-01,  2.50000000e+02],\n",
       "       [ 9.00000000e-01,  3.17500000e+02],\n",
       "       [ 1.06666667e+00,  6.23333333e+02],\n",
       "       [ 1.40000000e+00,  5.00000000e+02],\n",
       "       [ 1.70000000e+00,  9.60000000e+02],\n",
       "       [ 2.00000000e+00,  8.10000000e+02]])"
      ]
     },
     "execution_count": 12,
     "metadata": {},
     "output_type": "execute_result"
    }
   ],
   "source": [
    "data2.T"
   ]
  },
  {
   "cell_type": "code",
   "execution_count": 13,
   "id": "35240759-8b42-45d4-9362-ab82e05a4285",
   "metadata": {},
   "outputs": [],
   "source": [
    "# distances in Mpc\n",
    "r_o = data2[0]\n",
    "# velocities in km/s\n",
    "v_o = data2[1]"
   ]
  },
  {
   "cell_type": "markdown",
   "id": "192939a9-0f56-477c-80a4-956074953c68",
   "metadata": {},
   "source": [
    "Now, let's perform the same analysis on these 9 averaged points as we did for the previous 24 point data set. Here, we plot the original scatter plot of the data, a `polyfit` and one using our `least_squares` function. Again, much of this format can be found in the original `hubble.ipynb` Notebook from in class."
   ]
  },
  {
   "cell_type": "code",
   "execution_count": 14,
   "id": "9ba16ca8-1d0e-427d-a7d5-42a098b63d8f",
   "metadata": {},
   "outputs": [
    {
     "name": "stdout",
     "output_type": "stream",
     "text": [
      " Least squares fit of 9 data points\n",
      " -----------------------------------\n",
      " Hubble's constant slope   b = 450.63 +-  93.92  km/s/Mpc\n",
      " Intercept with r axis     a =  -6.90 +- 106.67  km/s\n",
      " Estimated v error bar sigma = 175.2 km/s\n",
      " numpy's values:           b = 450.63 +-  93.92  km/s/Mpc\n",
      "                           a =  -6.90 +- 106.67  km/s/Mpc\n"
     ]
    },
    {
     "data": {
      "image/png": "[encoded data removed]",
      "text/plain": [
       "<Figure size 600x400 with 1 Axes>"
      ]
     },
     "metadata": {
      "needs_background": "light"
     },
     "output_type": "display_data"
    }
   ],
   "source": [
    "n = len(r_o)   # number of galaxies\n",
    "\n",
    "if n <= 2 :\n",
    "    print ('Error! Need at least two data points!')\n",
    "    exit()\n",
    "\n",
    "# Use our home-grown version\n",
    "[a, b, sigma, sigma_a, sigma_b] = least_squares(r_o,v_o)\n",
    "\n",
    "# Check against numpy's version:\n",
    "p,cov = np.polyfit( r_o, v_o, 1, cov=True)\n",
    "\n",
    "# Print out results\n",
    "print (' Least squares fit of', n, 'data points')\n",
    "print (' -----------------------------------')\n",
    "print (\" Hubble's constant slope   b = {0:6.2f} +- {1:6.2f}  km/s/Mpc\".format( b, sigma_b))\n",
    "print (\" Intercept with r axis     a = {0:6.2f} +- {1:6.2f}  km/s\".format( a, sigma_a))\n",
    "print (' Estimated v error bar sigma =', round(sigma, 1), 'km/s')\n",
    "print (\" numpy's values:           b = {0:6.2f} +- {1:6.2f}  km/s/Mpc\".format( p[0], np.sqrt(cov[0,0])))\n",
    "print (\"                           a = {0:6.2f} +- {1:6.2f}  km/s/Mpc\".format( p[1], np.sqrt(cov[1,1])))\n",
    "\n",
    "\n",
    "rvals = np.linspace(0., 2.0, 21)\n",
    "f = a + b * rvals\n",
    "fnp = p[1] + p[0] * rvals\n",
    "plt.figure(1)\n",
    "plt.scatter( r_o, v_o, label = \"Data\" )\n",
    "plt.plot( rvals, f , label=\"Our fit\")\n",
    "plt.plot( rvals, fnp, label = \"numpy fit\")\n",
    "plt.xlabel(\"Distance (Mpc)\")\n",
    "plt.ylabel(\"Velocity (km/s)\")\n",
    "plt.legend()\n",
    "\n",
    "plt.show()\n"
   ]
  },
  {
   "cell_type": "markdown",
   "id": "71ba84d2-78b1-4bd0-a1ed-1d603df8c8fa",
   "metadata": {},
   "source": [
    "Given that Hubble's law tells us that:\n",
    "</br>\n",
    "$v = H_0d$\n",
    "Therefore, we can get the age of the universe:\n",
    "$v = \\frac{d}{t}$\n",
    "$t = \\frac{d}{v} = \\frac{d}{H_0d} = \\frac{1}{H_0}$\n",
    "Hubble's constant is given by $b = (450.63 \\pm 93.92)$ km/s/Mpc </br>\n",
    "After the unit conversions, we get \n",
    "$$H_0 = \\frac{1}{b} = 2.17 \\text{ billion years}$$\n",
    "This is a far cry from the reported age of the universe however. The accepted value is closer to 15 billion years, but this within an order of magnitude. "
   ]
  }
 ],
 "metadata": {
  "kernelspec": {
   "display_name": "Python 3 (ipykernel)",
   "language": "python",
   "name": "python3"
  },
  "language_info": {
   "codemirror_mode": {
    "name": "ipython",
    "version": 3
   },
   "file_extension": ".py",
   "mimetype": "text/x-python",
   "name": "python",
   "nbconvert_exporter": "python",
   "pygments_lexer": "ipython3",
   "version": "3.9.5"
  }
 },
 "nbformat": 4,
 "nbformat_minor": 5
}
